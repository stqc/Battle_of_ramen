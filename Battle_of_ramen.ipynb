{
 "cells": [
  {
   "cell_type": "markdown",
   "metadata": {},
   "source": [
    "# The Battle of Ramen\n",
    "## This notebook contains the analysis of the global ramen noodles data\n",
    "### Which can be found here : https://www.kaggle.com/residentmario/ramen-ratings"
   ]
  },
  {
   "cell_type": "markdown",
   "metadata": {},
   "source": [
    "### Let's start off by importing all the necessary libraries"
   ]
  },
  {
   "cell_type": "code",
   "execution_count": 379,
   "metadata": {},
   "outputs": [],
   "source": [
    "import pandas as pd\n",
    "import matplotlib.pyplot as plt\n",
    "import numpy as np\n",
    "import statistics"
   ]
  },
  {
   "cell_type": "markdown",
   "metadata": {},
   "source": [
    "## Reading the csv as Pandas DataFrame and viewing the first 5 columns\n",
    "\n",
    "### You can notice we have the following columns Review, Brand, Variety, Style, Stars and Top Ten"
   ]
  },
  {
   "cell_type": "code",
   "execution_count": 2,
   "metadata": {},
   "outputs": [
    {
     "data": {
      "text/html": [
       "<div>\n",
       "<style scoped>\n",
       "    .dataframe tbody tr th:only-of-type {\n",
       "        vertical-align: middle;\n",
       "    }\n",
       "\n",
       "    .dataframe tbody tr th {\n",
       "        vertical-align: top;\n",
       "    }\n",
       "\n",
       "    .dataframe thead th {\n",
       "        text-align: right;\n",
       "    }\n",
       "</style>\n",
       "<table border=\"1\" class=\"dataframe\">\n",
       "  <thead>\n",
       "    <tr style=\"text-align: right;\">\n",
       "      <th></th>\n",
       "      <th>Review #</th>\n",
       "      <th>Brand</th>\n",
       "      <th>Variety</th>\n",
       "      <th>Style</th>\n",
       "      <th>Country</th>\n",
       "      <th>Stars</th>\n",
       "      <th>Top Ten</th>\n",
       "    </tr>\n",
       "  </thead>\n",
       "  <tbody>\n",
       "    <tr>\n",
       "      <th>0</th>\n",
       "      <td>2580</td>\n",
       "      <td>New Touch</td>\n",
       "      <td>T's Restaurant Tantanmen</td>\n",
       "      <td>Cup</td>\n",
       "      <td>Japan</td>\n",
       "      <td>3.75</td>\n",
       "      <td>NaN</td>\n",
       "    </tr>\n",
       "    <tr>\n",
       "      <th>1</th>\n",
       "      <td>2579</td>\n",
       "      <td>Just Way</td>\n",
       "      <td>Noodles Spicy Hot Sesame Spicy Hot Sesame Guan...</td>\n",
       "      <td>Pack</td>\n",
       "      <td>Taiwan</td>\n",
       "      <td>1</td>\n",
       "      <td>NaN</td>\n",
       "    </tr>\n",
       "    <tr>\n",
       "      <th>2</th>\n",
       "      <td>2578</td>\n",
       "      <td>Nissin</td>\n",
       "      <td>Cup Noodles Chicken Vegetable</td>\n",
       "      <td>Cup</td>\n",
       "      <td>USA</td>\n",
       "      <td>2.25</td>\n",
       "      <td>NaN</td>\n",
       "    </tr>\n",
       "    <tr>\n",
       "      <th>3</th>\n",
       "      <td>2577</td>\n",
       "      <td>Wei Lih</td>\n",
       "      <td>GGE Ramen Snack Tomato Flavor</td>\n",
       "      <td>Pack</td>\n",
       "      <td>Taiwan</td>\n",
       "      <td>2.75</td>\n",
       "      <td>NaN</td>\n",
       "    </tr>\n",
       "    <tr>\n",
       "      <th>4</th>\n",
       "      <td>2576</td>\n",
       "      <td>Ching's Secret</td>\n",
       "      <td>Singapore Curry</td>\n",
       "      <td>Pack</td>\n",
       "      <td>India</td>\n",
       "      <td>3.75</td>\n",
       "      <td>NaN</td>\n",
       "    </tr>\n",
       "  </tbody>\n",
       "</table>\n",
       "</div>"
      ],
      "text/plain": [
       "   Review #           Brand  \\\n",
       "0      2580       New Touch   \n",
       "1      2579        Just Way   \n",
       "2      2578          Nissin   \n",
       "3      2577         Wei Lih   \n",
       "4      2576  Ching's Secret   \n",
       "\n",
       "                                             Variety Style Country Stars  \\\n",
       "0                          T's Restaurant Tantanmen    Cup   Japan  3.75   \n",
       "1  Noodles Spicy Hot Sesame Spicy Hot Sesame Guan...  Pack  Taiwan     1   \n",
       "2                      Cup Noodles Chicken Vegetable   Cup     USA  2.25   \n",
       "3                      GGE Ramen Snack Tomato Flavor  Pack  Taiwan  2.75   \n",
       "4                                    Singapore Curry  Pack   India  3.75   \n",
       "\n",
       "  Top Ten  \n",
       "0     NaN  \n",
       "1     NaN  \n",
       "2     NaN  \n",
       "3     NaN  \n",
       "4     NaN  "
      ]
     },
     "execution_count": 2,
     "metadata": {},
     "output_type": "execute_result"
    }
   ],
   "source": [
    "ramen_data=pd.read_csv(location_of_the_file)\n",
    "ramen_data.head()"
   ]
  },
  {
   "cell_type": "markdown",
   "metadata": {},
   "source": [
    "## Let's concern ourselves with only the noodles that reached top 10"
   ]
  },
  {
   "cell_type": "code",
   "execution_count": 7,
   "metadata": {},
   "outputs": [],
   "source": [
    "top10=ramen_data.dropna(subset=['Top Ten'])"
   ]
  },
  {
   "cell_type": "code",
   "execution_count": 28,
   "metadata": {},
   "outputs": [
    {
     "data": {
      "text/plain": [
       "array(['Myanmar', 'Singapore', 'Taiwan', 'China', 'Malaysia', 'Japan',\n",
       "       'Thailand', 'South Korea', 'USA', 'Indonesia', 'Hong Kong'],\n",
       "      dtype=object)"
      ]
     },
     "execution_count": 28,
     "metadata": {},
     "output_type": "execute_result"
    }
   ],
   "source": [
    "top10.Country.unique()"
   ]
  },
  {
   "cell_type": "markdown",
   "metadata": {},
   "source": [
    "## The following countries have made it to the top 10 \n",
    "### Myanmar, Singapore, Taiwan, China, Malaysia, Japan, Thailand, South Korea, USA, Indonesia, Hong Kong\n",
    "\n",
    "#### So let's go ahead and make another DataFrame with the data of only the countries in the top 10"
   ]
  },
  {
   "cell_type": "code",
   "execution_count": 52,
   "metadata": {},
   "outputs": [],
   "source": [
    "top_10_country_df={}\n",
    "for name in top10.Country.unique():\n",
    "    top_10_country_df[name]=(top10[\"Country\"][top10[\"Country\"]==name].count())"
   ]
  },
  {
   "cell_type": "code",
   "execution_count": 53,
   "metadata": {},
   "outputs": [],
   "source": [
    "top_10_country_df=pd.DataFrame(top_10_country_df,index=[0])\n",
    "top_10_country_df=top_10_country_df.transpose()\n",
    "top_10_country_df.rename(columns={0:\"Count\"},inplace=True)"
   ]
  },
  {
   "cell_type": "markdown",
   "metadata": {},
   "source": [
    "## The DataFrame below shows the frequency of how many times each country  was in the top 10 ramen noodles category"
   ]
  },
  {
   "cell_type": "code",
   "execution_count": 455,
   "metadata": {},
   "outputs": [
    {
     "data": {
      "text/html": [
       "<div>\n",
       "<style scoped>\n",
       "    .dataframe tbody tr th:only-of-type {\n",
       "        vertical-align: middle;\n",
       "    }\n",
       "\n",
       "    .dataframe tbody tr th {\n",
       "        vertical-align: top;\n",
       "    }\n",
       "\n",
       "    .dataframe thead th {\n",
       "        text-align: right;\n",
       "    }\n",
       "</style>\n",
       "<table border=\"1\" class=\"dataframe\">\n",
       "  <thead>\n",
       "    <tr style=\"text-align: right;\">\n",
       "      <th></th>\n",
       "      <th>Count</th>\n",
       "      <th>Countries</th>\n",
       "    </tr>\n",
       "  </thead>\n",
       "  <tbody>\n",
       "    <tr>\n",
       "      <th>Myanmar</th>\n",
       "      <td>1</td>\n",
       "      <td>Myanmar</td>\n",
       "    </tr>\n",
       "    <tr>\n",
       "      <th>Singapore</th>\n",
       "      <td>7</td>\n",
       "      <td>Singapore</td>\n",
       "    </tr>\n",
       "    <tr>\n",
       "      <th>Taiwan</th>\n",
       "      <td>2</td>\n",
       "      <td>Taiwan</td>\n",
       "    </tr>\n",
       "    <tr>\n",
       "      <th>China</th>\n",
       "      <td>1</td>\n",
       "      <td>China</td>\n",
       "    </tr>\n",
       "    <tr>\n",
       "      <th>Malaysia</th>\n",
       "      <td>6</td>\n",
       "      <td>Malaysia</td>\n",
       "    </tr>\n",
       "  </tbody>\n",
       "</table>\n",
       "</div>"
      ],
      "text/plain": [
       "           Count  Countries\n",
       "Myanmar        1    Myanmar\n",
       "Singapore      7  Singapore\n",
       "Taiwan         2     Taiwan\n",
       "China          1      China\n",
       "Malaysia       6   Malaysia"
      ]
     },
     "execution_count": 455,
     "metadata": {},
     "output_type": "execute_result"
    }
   ],
   "source": [
    "top_10_country_df.head()"
   ]
  },
  {
   "cell_type": "code",
   "execution_count": 57,
   "metadata": {},
   "outputs": [],
   "source": [
    "top_10_country_df['Countries']=top_10_country_df.index"
   ]
  },
  {
   "cell_type": "markdown",
   "metadata": {},
   "source": [
    "# It's time to give this data some visual appearance"
   ]
  },
  {
   "cell_type": "code",
   "execution_count": 274,
   "metadata": {},
   "outputs": [
    {
     "data": {
      "image/png": "[encoded data removed]",
      "text/plain": [
       "<Figure size 792x504 with 1 Axes>"
      ]
     },
     "metadata": {
      "needs_background": "light"
     },
     "output_type": "display_data"
    }
   ],
   "source": [
    "plt.bar(top_10_country_df['Countries'],top_10_country_df['Count'],color=['red','green','blue','yellow','purple','black','brown','cyan','orange','#c6db88','pink'])\n",
    "fig=plt.gcf()\n",
    "fig.set_size_inches(11,7)\n",
    "plt.xticks(rotation='vertical')\n",
    "plt.annotate(\"Singapore at 1st\",xy=(0.2,7.05))\n",
    "plt.annotate(\"Malaysia & japan at 2nd\",xy=(3.3,6.2))\n",
    "plt.annotate(\"South Korea at 3rd\",xy=(6.3,5.2))\n",
    "plt.title=(\"Countries with top 10 rated ramen\")\n",
    "plt.show()\n"
   ]
  },
  {
   "cell_type": "markdown",
   "metadata": {},
   "source": [
    "# From the bar graph we can see that...\n",
    "## Singapore made it to the top 10 list 7 times\n",
    "## Followed by Japan and Malaysia with 6 times\n",
    "## and Finally by South Korea with 5 times\n",
    "\n",
    "### Myanmar , China , USA and Hong Kong made it to the top 10 just once"
   ]
  },
  {
   "cell_type": "markdown",
   "metadata": {},
   "source": [
    "# Let's find out the production of ramen in all of the countries mentioned in our data"
   ]
  },
  {
   "cell_type": "code",
   "execution_count": 111,
   "metadata": {},
   "outputs": [],
   "source": [
    "#lets find out the ratio of the countries making ramen noodles\n",
    "total = ramen_data.Country.count()"
   ]
  },
  {
   "cell_type": "markdown",
   "metadata": {},
   "source": [
    "## let's create a separate DataFrame of all countries with the percentage of their share of production"
   ]
  },
  {
   "cell_type": "code",
   "execution_count": 182,
   "metadata": {},
   "outputs": [],
   "source": [
    "country_df={}\n",
    "for name in ramen_data.Country.unique():\n",
    "    country_df[name]=(ramen_data['Country'][ramen_data[\"Country\"]==name].count()*100/total)\n",
    "    \n",
    "country_df=pd.DataFrame(country_df,index=[0]).transpose()\n",
    "country_df.rename(columns={0:\"Percentage\"},inplace=True)\n",
    "country_df['Country']=country_df.index"
   ]
  },
  {
   "cell_type": "code",
   "execution_count": 321,
   "metadata": {},
   "outputs": [],
   "source": [
    "#sorting the dataframe\n",
    "country_df=country_df.sort_values(['Percentage'],ascending=False)"
   ]
  },
  {
   "cell_type": "code",
   "execution_count": 456,
   "metadata": {},
   "outputs": [
    {
     "data": {
      "text/html": [
       "<div>\n",
       "<style scoped>\n",
       "    .dataframe tbody tr th:only-of-type {\n",
       "        vertical-align: middle;\n",
       "    }\n",
       "\n",
       "    .dataframe tbody tr th {\n",
       "        vertical-align: top;\n",
       "    }\n",
       "\n",
       "    .dataframe thead th {\n",
       "        text-align: right;\n",
       "    }\n",
       "</style>\n",
       "<table border=\"1\" class=\"dataframe\">\n",
       "  <thead>\n",
       "    <tr style=\"text-align: right;\">\n",
       "      <th></th>\n",
       "      <th>Percentage</th>\n",
       "      <th>Country</th>\n",
       "    </tr>\n",
       "  </thead>\n",
       "  <tbody>\n",
       "    <tr>\n",
       "      <th>Japan</th>\n",
       "      <td>13.643411</td>\n",
       "      <td>Japan</td>\n",
       "    </tr>\n",
       "    <tr>\n",
       "      <th>USA</th>\n",
       "      <td>12.519380</td>\n",
       "      <td>USA</td>\n",
       "    </tr>\n",
       "    <tr>\n",
       "      <th>South Korea</th>\n",
       "      <td>11.976744</td>\n",
       "      <td>South Korea</td>\n",
       "    </tr>\n",
       "    <tr>\n",
       "      <th>Taiwan</th>\n",
       "      <td>8.682171</td>\n",
       "      <td>Taiwan</td>\n",
       "    </tr>\n",
       "    <tr>\n",
       "      <th>Thailand</th>\n",
       "      <td>7.403101</td>\n",
       "      <td>Thailand</td>\n",
       "    </tr>\n",
       "  </tbody>\n",
       "</table>\n",
       "</div>"
      ],
      "text/plain": [
       "             Percentage      Country\n",
       "Japan         13.643411        Japan\n",
       "USA           12.519380          USA\n",
       "South Korea   11.976744  South Korea\n",
       "Taiwan         8.682171       Taiwan\n",
       "Thailand       7.403101     Thailand"
      ]
     },
     "execution_count": 456,
     "metadata": {},
     "output_type": "execute_result"
    }
   ],
   "source": [
    "country_df.head()"
   ]
  },
  {
   "cell_type": "markdown",
   "metadata": {},
   "source": [
    "# Here we are, visualising this data again!\n",
    "Oh what would I do without you matplotlib"
   ]
  },
  {
   "cell_type": "code",
   "execution_count": 323,
   "metadata": {},
   "outputs": [
    {
     "data": {
      "image/png": "[encoded data removed]",
      "text/plain": [
       "<Figure size 1440x720 with 1 Axes>"
      ]
     },
     "metadata": {
      "needs_background": "light"
     },
     "output_type": "display_data"
    }
   ],
   "source": [
    "ax=country_df.plot(kind='bar',figsize=(20,10),fontsize=14,legend=None,title=\"Percentage of ramen produced by every country\")\n",
    "ax.annotate(\"Japan is the leading producer of ramen with almost 14% of the world's total produce\",xy=(0,13.9),fontsize=14)\n",
    "ax.annotate(\"Followed by USA at a little over 12%\",xy=(1,13),fontsize=14)\n",
    "ax.annotate(\"and by South Korea at almost 12% \",xy=(2,12.2),fontsize=14)\n",
    "ax.annotate(\"Countries like Ghana, Nigeria, Hungary, Fiji etc have barely crossed 1%\",xy=(16,5),fontsize=14)\n",
    "ax.set_ylabel=(\"Percentage of ramen production\")\n",
    "ax.set_xlabel=(\"Country names\")\n",
    "plt.show()"
   ]
  },
  {
   "cell_type": "markdown",
   "metadata": {},
   "source": [
    "# The results are very clear... Japan , USA and South Korea are the top 3 countries with the highest production of ramen noodles!\n",
    "\n",
    "### Something tells me that ramen is the favourite snack all over the world"
   ]
  },
  {
   "cell_type": "markdown",
   "metadata": {},
   "source": [
    "# Let's move on and find out which of the top 3 ramen producing countries have the highest average rating of their ramen noodles"
   ]
  },
  {
   "cell_type": "markdown",
   "metadata": {},
   "source": [
    "## For this of course we are going to create another DataFrame with the following columns\n",
    "## 1) Country\n",
    "## 2) Stars"
   ]
  },
  {
   "cell_type": "code",
   "execution_count": 362,
   "metadata": {},
   "outputs": [],
   "source": [
    "#lets find the average star ratings of each the top 3 ramen producing countries\n",
    "top_3_producing=ramen_data[['Country','Stars']][(ramen_data['Country']==\"Japan\") | (ramen_data['Country']==\"USA\")| (ramen_data['Country']==\"South Korea\")]"
   ]
  },
  {
   "cell_type": "code",
   "execution_count": 363,
   "metadata": {},
   "outputs": [],
   "source": [
    "top_3_producing.replace('Unrated',np.nan,inplace=True)\n",
    "top_3_producing.dropna(inplace=True)"
   ]
  },
  {
   "cell_type": "code",
   "execution_count": 367,
   "metadata": {},
   "outputs": [
    {
     "data": {
      "text/plain": [
       "Country     object\n",
       "Stars      float64\n",
       "dtype: object"
      ]
     },
     "execution_count": 367,
     "metadata": {},
     "output_type": "execute_result"
    }
   ],
   "source": [
    "#lets convert the data type of every element in the series stars to float64\n",
    "top_3_producing=top_3_producing.astype({'Stars':'float64'})\n",
    "top_3_producing.dtypes"
   ]
  },
  {
   "cell_type": "markdown",
   "metadata": {},
   "source": [
    "# And it looks something like this:"
   ]
  },
  {
   "cell_type": "code",
   "execution_count": 457,
   "metadata": {},
   "outputs": [
    {
     "data": {
      "text/html": [
       "<div>\n",
       "<style scoped>\n",
       "    .dataframe tbody tr th:only-of-type {\n",
       "        vertical-align: middle;\n",
       "    }\n",
       "\n",
       "    .dataframe tbody tr th {\n",
       "        vertical-align: top;\n",
       "    }\n",
       "\n",
       "    .dataframe thead th {\n",
       "        text-align: right;\n",
       "    }\n",
       "</style>\n",
       "<table border=\"1\" class=\"dataframe\">\n",
       "  <thead>\n",
       "    <tr style=\"text-align: right;\">\n",
       "      <th></th>\n",
       "      <th>Country</th>\n",
       "      <th>Stars</th>\n",
       "    </tr>\n",
       "  </thead>\n",
       "  <tbody>\n",
       "    <tr>\n",
       "      <th>0</th>\n",
       "      <td>Japan</td>\n",
       "      <td>3.75</td>\n",
       "    </tr>\n",
       "    <tr>\n",
       "      <th>2</th>\n",
       "      <td>USA</td>\n",
       "      <td>2.25</td>\n",
       "    </tr>\n",
       "    <tr>\n",
       "      <th>5</th>\n",
       "      <td>South Korea</td>\n",
       "      <td>4.75</td>\n",
       "    </tr>\n",
       "    <tr>\n",
       "      <th>6</th>\n",
       "      <td>Japan</td>\n",
       "      <td>4.00</td>\n",
       "    </tr>\n",
       "    <tr>\n",
       "      <th>7</th>\n",
       "      <td>Japan</td>\n",
       "      <td>3.75</td>\n",
       "    </tr>\n",
       "  </tbody>\n",
       "</table>\n",
       "</div>"
      ],
      "text/plain": [
       "       Country  Stars\n",
       "0        Japan   3.75\n",
       "2          USA   2.25\n",
       "5  South Korea   4.75\n",
       "6        Japan   4.00\n",
       "7        Japan   3.75"
      ]
     },
     "execution_count": 457,
     "metadata": {},
     "output_type": "execute_result"
    }
   ],
   "source": [
    "top_3_producing.head()"
   ]
  },
  {
   "cell_type": "markdown",
   "metadata": {},
   "source": [
    "# We will now take the average of the star rating of every country for comparison and store it in....\n",
    "## If you said another DataFrame you are absolutely right!"
   ]
  },
  {
   "cell_type": "code",
   "execution_count": 415,
   "metadata": {},
   "outputs": [],
   "source": [
    "average_star_ratings={\"Japan\":statistics.mean(top_3_producing['Stars'][top_3_producing['Country']==\"Japan\"]),\"USA\":statistics.mean(top_3_producing['Stars'][top_3_producing['Country']==\"USA\"]),\"South Korea\":statistics.mean(top_3_producing['Stars'][top_3_producing['Country']==\"South Korea\"])}"
   ]
  },
  {
   "cell_type": "code",
   "execution_count": 416,
   "metadata": {},
   "outputs": [
    {
     "data": {
      "text/html": [
       "<div>\n",
       "<style scoped>\n",
       "    .dataframe tbody tr th:only-of-type {\n",
       "        vertical-align: middle;\n",
       "    }\n",
       "\n",
       "    .dataframe tbody tr th {\n",
       "        vertical-align: top;\n",
       "    }\n",
       "\n",
       "    .dataframe thead th {\n",
       "        text-align: right;\n",
       "    }\n",
       "</style>\n",
       "<table border=\"1\" class=\"dataframe\">\n",
       "  <thead>\n",
       "    <tr style=\"text-align: right;\">\n",
       "      <th></th>\n",
       "      <th>Average</th>\n",
       "      <th>Countries</th>\n",
       "    </tr>\n",
       "  </thead>\n",
       "  <tbody>\n",
       "    <tr>\n",
       "      <th>Japan</th>\n",
       "      <td>3.981605</td>\n",
       "      <td>Japan</td>\n",
       "    </tr>\n",
       "    <tr>\n",
       "      <th>USA</th>\n",
       "      <td>3.457043</td>\n",
       "      <td>USA</td>\n",
       "    </tr>\n",
       "    <tr>\n",
       "      <th>South Korea</th>\n",
       "      <td>3.790554</td>\n",
       "      <td>South Korea</td>\n",
       "    </tr>\n",
       "  </tbody>\n",
       "</table>\n",
       "</div>"
      ],
      "text/plain": [
       "              Average    Countries\n",
       "Japan        3.981605        Japan\n",
       "USA          3.457043          USA\n",
       "South Korea  3.790554  South Korea"
      ]
     },
     "execution_count": 416,
     "metadata": {},
     "output_type": "execute_result"
    }
   ],
   "source": [
    "average_star_ratings=pd.DataFrame(average_star_ratings,index=['Average']).transpose()\n",
    "average_star_ratings['Countries']=average_star_ratings.index\n",
    "average_star_ratings"
   ]
  },
  {
   "cell_type": "code",
   "execution_count": 418,
   "metadata": {},
   "outputs": [],
   "source": [
    "average_star_ratings.sort_index(inplace=True)"
   ]
  },
  {
   "cell_type": "markdown",
   "metadata": {},
   "source": [
    "# So we have our DataFrame, We have seen what it looks like.....which leaves only one more thing to do.\n",
    "## VISUALISE"
   ]
  },
  {
   "cell_type": "code",
   "execution_count": 507,
   "metadata": {},
   "outputs": [
    {
     "data": {
      "image/png": "[encoded data removed]",
      "text/plain": [
       "<Figure size 1440x504 with 1 Axes>"
      ]
     },
     "metadata": {
      "needs_background": "light"
     },
     "output_type": "display_data"
    }
   ],
   "source": [
    "ax=average_star_ratings.plot(kind=\"bar\",title=\"Average star ratings of top 3 ramen producing countries\",legend=None,figsize=(20,7),fontsize=14,color='brown')\n",
    "ax.set_xlabel=('Countries')\n",
    "ax.set_ylabel=('Rating')\n",
    "ax.annotate(round(average_star_ratings.iloc[0,0],2),xy=(-0.05,4),fontsize=14)\n",
    "ax.annotate(round(average_star_ratings.iloc[1,0],2),xy=(0.9,3.85),fontsize=14)\n",
    "ax.annotate(round(average_star_ratings.iloc[2,0],2),xy=(1.9,3.6),fontsize=14)\n",
    "plt.xticks(rotation=0,fontsize=14)\n",
    "plt.show()"
   ]
  },
  {
   "cell_type": "markdown",
   "metadata": {},
   "source": [
    "# It's clear from the graph above Japan has the highest quality noodles\n",
    "Ramen lovers take notes!\n",
    "# Though the difference in rating among the three countries is minimal \n",
    "# Since Japan has taken the number 1 spot  let's explore and see what brand is most popular among the Japanese"
   ]
  },
  {
   "cell_type": "markdown",
   "metadata": {},
   "source": [
    "## For this, we are going to be taking the average star rating of every single brand in Japan that produces ramen noodles\n",
    "\n",
    "### So let's beging retrieving our required data"
   ]
  },
  {
   "cell_type": "code",
   "execution_count": 458,
   "metadata": {},
   "outputs": [
    {
     "data": {
      "text/html": [
       "<div>\n",
       "<style scoped>\n",
       "    .dataframe tbody tr th:only-of-type {\n",
       "        vertical-align: middle;\n",
       "    }\n",
       "\n",
       "    .dataframe tbody tr th {\n",
       "        vertical-align: top;\n",
       "    }\n",
       "\n",
       "    .dataframe thead th {\n",
       "        text-align: right;\n",
       "    }\n",
       "</style>\n",
       "<table border=\"1\" class=\"dataframe\">\n",
       "  <thead>\n",
       "    <tr style=\"text-align: right;\">\n",
       "      <th></th>\n",
       "      <th>Brand</th>\n",
       "      <th>Stars</th>\n",
       "    </tr>\n",
       "  </thead>\n",
       "  <tbody>\n",
       "    <tr>\n",
       "      <th>0</th>\n",
       "      <td>New Touch</td>\n",
       "      <td>3.75</td>\n",
       "    </tr>\n",
       "    <tr>\n",
       "      <th>6</th>\n",
       "      <td>Acecook</td>\n",
       "      <td>4</td>\n",
       "    </tr>\n",
       "    <tr>\n",
       "      <th>7</th>\n",
       "      <td>Ikeda Shoku</td>\n",
       "      <td>3.75</td>\n",
       "    </tr>\n",
       "    <tr>\n",
       "      <th>8</th>\n",
       "      <td>Ripe'n'Dry</td>\n",
       "      <td>0.25</td>\n",
       "    </tr>\n",
       "    <tr>\n",
       "      <th>13</th>\n",
       "      <td>Nissin</td>\n",
       "      <td>4.5</td>\n",
       "    </tr>\n",
       "    <tr>\n",
       "      <th>27</th>\n",
       "      <td>Nissin</td>\n",
       "      <td>4.75</td>\n",
       "    </tr>\n",
       "    <tr>\n",
       "      <th>34</th>\n",
       "      <td>New Touch</td>\n",
       "      <td>3.75</td>\n",
       "    </tr>\n",
       "  </tbody>\n",
       "</table>\n",
       "</div>"
      ],
      "text/plain": [
       "          Brand Stars\n",
       "0     New Touch  3.75\n",
       "6       Acecook     4\n",
       "7   Ikeda Shoku  3.75\n",
       "8    Ripe'n'Dry  0.25\n",
       "13       Nissin   4.5\n",
       "27       Nissin  4.75\n",
       "34    New Touch  3.75"
      ]
     },
     "execution_count": 458,
     "metadata": {},
     "output_type": "execute_result"
    }
   ],
   "source": [
    "jp_data=ramen_data[['Brand','Stars']][ramen_data['Country']==\"Japan\"]\n",
    "jp_data.head(7)"
   ]
  },
  {
   "cell_type": "code",
   "execution_count": 459,
   "metadata": {},
   "outputs": [
    {
     "data": {
      "text/plain": [
       "array(['New Touch', 'Acecook', 'Ikeda Shoku', \"Ripe'n'Dry\", 'Nissin',\n",
       "       'Fujiwara', 'Maruchan', 'Sokensha', 'Takamori', 'Samurai Ramen',\n",
       "       'Ogasawara', 'Tokyo Noodle', 'MyKuali', 'Ajinatori', 'Myojo',\n",
       "       'Daikoku', 'Marutai', 'Sapporo Ichiban', 'Tablemark', 'Nagatanien',\n",
       "       'Menraku', 'Itomen', 'Sanpo', 'Tokushima Seifun', 'Itsuki',\n",
       "       'Higashimaru', 'Kuriki', 'Daraz', 'Seven & I', 'Sugakiya Foods',\n",
       "       'Nakaya Shouten', 'Torishi', 'Ishimaru', 'Yamadai',\n",
       "       'Sakurai Foods', 'Samyang Foods', 'Mitoku', 'Unzen', 'Oyatsu',\n",
       "       'Men-Sunaoshi', 'Takamori Kosan', 'Kimura', 'Tokachimen Koubou',\n",
       "       'Kumamoto', 'Sanrio', 'Peyang', 'Nagao Noodle', 'Goku Uma',\n",
       "       'Fuji Mengyo', 'Seven-Eleven', 'Paldo', 'Yamamoto', 'JFC',\n",
       "       'Yamamori', 'Shirakiku', 'Sanyo Foods', 'Higashi', 'Sakurai'],\n",
       "      dtype=object)"
      ]
     },
     "execution_count": 459,
     "metadata": {},
     "output_type": "execute_result"
    }
   ],
   "source": [
    "#Let's have a look at the brands of ramen noodles in Japan\n",
    "jp_data['Brand'].unique()"
   ]
  },
  {
   "cell_type": "markdown",
   "metadata": {},
   "source": [
    "### Now that's a lot of brands\n",
    "###### Flex tape reference\n",
    "\n",
    "## Let's go ahead and gather out the average ratings for each of these brands"
   ]
  },
  {
   "cell_type": "code",
   "execution_count": 466,
   "metadata": {},
   "outputs": [
    {
     "data": {
      "text/html": [
       "<div>\n",
       "<style scoped>\n",
       "    .dataframe tbody tr th:only-of-type {\n",
       "        vertical-align: middle;\n",
       "    }\n",
       "\n",
       "    .dataframe tbody tr th {\n",
       "        vertical-align: top;\n",
       "    }\n",
       "\n",
       "    .dataframe thead th {\n",
       "        text-align: right;\n",
       "    }\n",
       "</style>\n",
       "<table border=\"1\" class=\"dataframe\">\n",
       "  <thead>\n",
       "    <tr style=\"text-align: right;\">\n",
       "      <th></th>\n",
       "      <th>Average</th>\n",
       "      <th>Brands</th>\n",
       "    </tr>\n",
       "  </thead>\n",
       "  <tbody>\n",
       "    <tr>\n",
       "      <th>New Touch</th>\n",
       "      <td>4.277778</td>\n",
       "      <td>New Touch</td>\n",
       "    </tr>\n",
       "    <tr>\n",
       "      <th>Acecook</th>\n",
       "      <td>3.217857</td>\n",
       "      <td>Acecook</td>\n",
       "    </tr>\n",
       "    <tr>\n",
       "      <th>Ikeda Shoku</th>\n",
       "      <td>4.125000</td>\n",
       "      <td>Ikeda Shoku</td>\n",
       "    </tr>\n",
       "    <tr>\n",
       "      <th>Ripe'n'Dry</th>\n",
       "      <td>2.083333</td>\n",
       "      <td>Ripe'n'Dry</td>\n",
       "    </tr>\n",
       "    <tr>\n",
       "      <th>Nissin</th>\n",
       "      <td>4.259910</td>\n",
       "      <td>Nissin</td>\n",
       "    </tr>\n",
       "  </tbody>\n",
       "</table>\n",
       "</div>"
      ],
      "text/plain": [
       "              Average       Brands\n",
       "New Touch    4.277778    New Touch\n",
       "Acecook      3.217857      Acecook\n",
       "Ikeda Shoku  4.125000  Ikeda Shoku\n",
       "Ripe'n'Dry   2.083333   Ripe'n'Dry\n",
       "Nissin       4.259910       Nissin"
      ]
     },
     "execution_count": 466,
     "metadata": {},
     "output_type": "execute_result"
    }
   ],
   "source": [
    "jp_brands={}\n",
    "jp_data=jp_data.astype({\"Stars\":\"float64\"})\n",
    "for x in jp_data['Brand'].unique():\n",
    "    jp_brands[x]=statistics.mean(jp_data['Stars'][jp_data['Brand']==x])\n",
    "jp_brands=pd.DataFrame(jp_brands,index=['Average']).transpose()\n",
    "jp_brands['Brands']=jp_brands.index\n",
    "jp_brands.head()"
   ]
  },
  {
   "cell_type": "markdown",
   "metadata": {},
   "source": [
    "### To keep the comparison fair I have decided to drop all the brands that had and average rating of 5 stars which are:\n",
    "#### 1) Takamori\n",
    "#### 2) MyKuali\n",
    "#### 3) Seven & I\n",
    "#### 4) Torishi\n",
    "#### 5) Kimura\n",
    "#### 6) Peyang\n",
    "#### 7) Higashi\n",
    "\n",
    "### Since they had less than 3 ratings\n",
    "gone but not forgotten"
   ]
  },
  {
   "cell_type": "code",
   "execution_count": 493,
   "metadata": {},
   "outputs": [],
   "source": [
    "jp_brands.drop('''this is where they were all written down to perform the dropping''',inplace=True,axis=0)"
   ]
  },
  {
   "cell_type": "markdown",
   "metadata": {},
   "source": [
    "## Let's sort out the data for a so we can plot a cleaner looking graph"
   ]
  },
  {
   "cell_type": "code",
   "execution_count": 495,
   "metadata": {},
   "outputs": [],
   "source": [
    "jp_brands.sort_values('Average',ascending=False,inplace=True)"
   ]
  },
  {
   "cell_type": "code",
   "execution_count": 509,
   "metadata": {},
   "outputs": [
    {
     "data": {
      "image/png": "[encoded data removed]",
      "text/plain": [
       "<Figure size 1440x504 with 1 Axes>"
      ]
     },
     "metadata": {
      "needs_background": "light"
     },
     "output_type": "display_data"
    }
   ],
   "source": [
    "ax=jp_brands.plot(kind='bar',fontsize=16,legend=None,figsize=(20,7),title=\"Average Rating of each Japanese Ramen Noodles Brand\")\n",
    "ax.set_ylabel(\"Ratings\",fontsize=15)\n",
    "ax.set_xlabel(\"Brands\",fontsize=15)\n",
    "plt.show()"
   ]
  },
  {
   "cell_type": "markdown",
   "metadata": {},
   "source": [
    "# To conclude this analysis we can definitely say this with authority that Japan knows how to make some high quality noodles"
   ]
  },
  {
   "cell_type": "code",
   "execution_count": null,
   "metadata": {},
   "outputs": [],
   "source": []
  }
 ],
 "metadata": {
  "kernelspec": {
   "display_name": "Python 3",
   "language": "python",
   "name": "python3"
  },
  "language_info": {
   "codemirror_mode": {
    "name": "ipython",
    "version": 3
   },
   "file_extension": ".py",
   "mimetype": "text/x-python",
   "name": "python",
   "nbconvert_exporter": "python",
   "pygments_lexer": "ipython3",
   "version": "3.7.1"
  }
 },
 "nbformat": 4,
 "nbformat_minor": 2
}
